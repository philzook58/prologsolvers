{
 "cells": [
  {
   "cell_type": "code",
   "execution_count": 1,
   "metadata": {},
   "outputs": [],
   "source": [
    "from prologsolvers import trs\n",
    "import janus_swi as janus\n",
    "\n",
    "\n",
    "\n",
    "\n",
    "janus.consult(\"trs\", data=trs.code)"
   ]
  },
  {
   "cell_type": "code",
   "execution_count": 36,
   "metadata": {},
   "outputs": [
    {
     "name": "stdout",
     "output_type": "stream",
     "text": [
      "hello\n"
     ]
    },
    {
     "name": "stderr",
     "output_type": "stream",
     "text": [
      "ERROR: Stream <stream>(0x561e862be880):3:0 Syntax error: Unexpected end of file\n"
     ]
    },
    {
     "data": {
      "text/plain": [
       "{'truth': True, 'Res': 3}"
      ]
     },
     "execution_count": 36,
     "metadata": {},
     "output_type": "execute_result"
    }
   ],
   "source": [
    "janus.query_once(\"equations_trs([a = b, b = c, e = f], _Rs), R = #(_Rs)\")\n",
    "\n",
    "\n",
    "\"\"\"\n",
    "pythonize([A|B], [A|C]) :- !, maplist().\n",
    "pythonize(T,Out) :- T =.. [F|Args], maplist(pythonize,Args,ArgsOut), Out = F-ArgsOut.\n",
    "\n",
    "\"\"\"\n",
    "\n",
    "\n",
    "janus.consult(\"\", \"\"\"\n",
    "z3(true, T) :- py_call(z3:'BoolVal'(true), T).\n",
    "z3(and(A,B), T) :- z3(A,ZA), z3(B,ZB), py_call(z3:'And'(ZA, ZB), T). \n",
    "\"\"\")\n",
    "\n",
    "\n",
    "#janus.query_once(\"\"\"\n",
    "#                 py_call(z3:Int(\"x\"), Res)\"\"\")\n",
    "\n",
    "janus.query_once('py_call(print(\"hello\"))')\n",
    "janus.query_once(\"\"\"py_call(z3:'IntVal'(3), Res)\"\"\")"
   ]
  },
  {
   "cell_type": "code",
   "execution_count": 31,
   "metadata": {},
   "outputs": [
    {
     "ename": "TypeError",
     "evalue": "'Term' object is not subscriptable",
     "output_type": "error",
     "traceback": [
      "\u001b[0;31m---------------------------------------------------------------------------\u001b[0m",
      "\u001b[0;31mTypeError\u001b[0m                                 Traceback (most recent call last)",
      "Cell \u001b[0;32mIn[31], line 6\u001b[0m\n\u001b[1;32m      4\u001b[0m     \u001b[38;5;28;01mreturn\u001b[39;00m janus\u001b[38;5;241m.\u001b[39mquery_once(\u001b[38;5;124mf\u001b[39m\u001b[38;5;124m\"\u001b[39m\u001b[38;5;124mtrs:equations_trs(\u001b[39m\u001b[38;5;132;01m{\u001b[39;00meqs\u001b[38;5;132;01m}\u001b[39;00m\u001b[38;5;124m, _Rs), R =.. [prolog, _Rs]\u001b[39m\u001b[38;5;124m\"\u001b[39m)[\u001b[38;5;124m\"\u001b[39m\u001b[38;5;124mR\u001b[39m\u001b[38;5;124m\"\u001b[39m]\n\u001b[1;32m      5\u001b[0m rules \u001b[38;5;241m=\u001b[39m complete(\u001b[38;5;124m\"\u001b[39m\u001b[38;5;124m[a = b, b = c, e = f]\u001b[39m\u001b[38;5;124m\"\u001b[39m)\n\u001b[0;32m----> 6\u001b[0m \u001b[43mrules\u001b[49m\u001b[43m[\u001b[49m\u001b[38;5;241;43m0\u001b[39;49m\u001b[43m]\u001b[49m\n",
      "\u001b[0;31mTypeError\u001b[0m: 'Term' object is not subscriptable"
     ]
    }
   ],
   "source": [
    "def complete(eqs):\n",
    "    janus.consult(\"trs\", data=trs.code)\n",
    "    #return janus.query_once(\"equations_trs(Eqs, _Rs), R = #(_Rs)\", {\"Eqs\": eqs})\n",
    "    return janus.query_once(f\"trs:equations_trs({eqs}, _Rs), R =.. [prolog, _Rs]\")[\"R\"]\n",
    "rules = complete(\"[a = b, b = c, e = f]\")\n",
    "rules[0]"
   ]
  }
 ],
 "metadata": {
  "kernelspec": {
   "display_name": "Python 3",
   "language": "python",
   "name": "python3"
  },
  "language_info": {
   "codemirror_mode": {
    "name": "ipython",
    "version": 3
   },
   "file_extension": ".py",
   "mimetype": "text/x-python",
   "name": "python",
   "nbconvert_exporter": "python",
   "pygments_lexer": "ipython3",
   "version": "3.10.12"
  }
 },
 "nbformat": 4,
 "nbformat_minor": 2
}
